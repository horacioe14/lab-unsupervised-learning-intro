{
 "cells": [
  {
   "cell_type": "markdown",
   "metadata": {},
   "source": [
    "## WebScraping III: revenge of the prototype\n",
    "\n",
    "Following the prototype discussed in class, build an MVP, where the client will input a song, and the app will check if that song is in top 100 list. If it is, you will recommend another song from billboard 100, if it isn't, you will recommend a random song (for now) from another website, source of music boards."
   ]
  },
  {
   "cell_type": "code",
   "execution_count": 48,
   "metadata": {},
   "outputs": [],
   "source": [
    "import requests\n",
    "from bs4 import BeautifulSoup\n",
    "\n",
    "import spotipy\n",
    "from spotipy.oauth2 import SpotifyClientCredentials\n",
    "import pandas as pd\n",
    "from sklearn import datasets\n",
    "from sklearn.preprocessing import StandardScaler\n",
    "sp = spotipy.Spotify(auth_manager=SpotifyClientCredentials(client_id=\"d151bde53dbd4ba0a64a51af0beb8ba1\",\n",
    "                                                           client_secret=\"2c1899472adb4da58dfad53428c612fb\"))\n",
    "from sklearn.cluster import KMeans\n",
    "from sklearn.metrics import silhouette_score\n",
    "import numpy as np\n",
    "import matplotlib.pyplot as plt\n",
    "from sklearn.metrics import pairwise_distances_argmin_min\n",
    "pd.set_option('display.max_rows', None)\n"
   ]
  },
  {
   "cell_type": "markdown",
   "metadata": {},
   "source": [
    "### Generate The Hot 100 Billboard Data Frame "
   ]
  },
  {
   "cell_type": "code",
   "execution_count": 49,
   "metadata": {},
   "outputs": [],
   "source": [
    "def billboard_100(url):\n",
    "    r = requests.get(url)\n",
    "    r.status_code\n",
    "    html = r.content\n",
    "    soup = BeautifulSoup(html, 'html.parser')\n",
    "    song = soup.find_all(\"span\", class_=\"chart-element__information__song\")\n",
    "    import pandas as pd\n",
    "    rows = []\n",
    "    for i in song:\n",
    "        rows.append(i.get_text())\n",
    "    song_df = pd.DataFrame(rows, columns=[\"song\"])\n",
    "    artist = soup.find_all(\"span\", class_=\"chart-element__information__artist\")\n",
    "    rows = []\n",
    "    for i in artist:\n",
    "        rows.append(i.get_text())\n",
    "    artist_df = pd.DataFrame(rows, columns=[\"artist\"])\n",
    "    billboard_chart = pd.concat([artist_df, song_df], axis=1)\n",
    "    return billboard_chart"
   ]
  },
  {
   "cell_type": "markdown",
   "metadata": {},
   "source": [
    "### Merge all Playlists into one DataFrame "
   ]
  },
  {
   "cell_type": "code",
   "execution_count": 30,
   "metadata": {},
   "outputs": [],
   "source": [
    " def get_playlist_tracks_lupo(playlist_url):\n",
    "        merged = pd.DataFrame()\n",
    "        for url in playlist_url:\n",
    "                results = sp.playlist_tracks(url)\n",
    "                tracks = results['items']\n",
    "                while results['next']:\n",
    "                    results = sp.next(results)\n",
    "                    tracks.extend(results['items'])\n",
    "\n",
    "                song_ids = [track['track']['id'] for track in tracks]\n",
    "                song_name = [track['track']['name'] for track in tracks]\n",
    "                artist = [track['track']['artists'][0]['name'] for track in tracks]\n",
    "\n",
    "                playlist_audio = []\n",
    "                [playlist_audio.extend(sp.audio_features(song_ids[i:i+100])) for i in range(0, len(song_ids), 100)]\n",
    "                data = list(zip(song_ids, song_name, artist))\n",
    "                playlist_audio_df = pd.DataFrame.from_dict(playlist_audio)\n",
    "                dataframe = pd.DataFrame(data, columns=['song_ids', 'song_name', 'artist'])\n",
    "                info_cluster_df = dataframe.merge(playlist_audio_df, left_index = True, right_index = True)\n",
    "                merged = merged.append(info_cluster_df)\n",
    "        merged = merged.reset_index(drop = True)\n",
    "        return merged\n",
    "\n",
    "# https://www.hypebot.com/hypebot/2020/11/20-most-popular-playlists-on-spotify.html PLAYLISTS SOURCE\n"
   ]
  },
  {
   "cell_type": "markdown",
   "metadata": {},
   "source": [
    "### Song recommender from closest song in KNN cluster"
   ]
  },
  {
   "cell_type": "code",
   "execution_count": 54,
   "metadata": {},
   "outputs": [
    {
     "name": "stdout",
     "output_type": "stream",
     "text": [
      "Enter your favourite song: Enter Sandman\n"
     ]
    },
    {
     "data": {
      "text/plain": [
       "'User input: Artist: Metallica Track name: Enter Sandman. Model recommendation: Sweet Home Alabama by Lynyrd Skynyrd'"
      ]
     },
     "execution_count": 54,
     "metadata": {},
     "output_type": "execute_result"
    }
   ],
   "source": [
    "def song_recommender_closest():\n",
    "    song_name = input(\"Enter your favourite song: \")\n",
    "    billboard = billboard_100('https://www.billboard.com/charts/hot-100')\n",
    "\n",
    "    if song_name in billboard['song'].values.tolist():\n",
    "        return 'The following recommendation is from the billboard hot-100:', billboard.sample()\n",
    "    else: \n",
    "#Obtain user song features based on song name. Get song_id and use spotify sp.audio_features and convert into data frame.\n",
    "        query = 'track:' + song_name #+ artist_name\n",
    "        results = sp.search(q=query, limit=1)\n",
    "        user_song_id = results[\"tracks\"][\"items\"][0]['id']\n",
    "        user_song_name = results['tracks']['items'][0]['name']\n",
    "        user_song_artist = results['tracks']['items'][0]['artists']\n",
    "        artist_names = ''\n",
    "        for artist in user_song_artist:\n",
    "            artist_names += artist['name'] + ', '\n",
    "        \n",
    "        user_song_features = sp.audio_features(user_song_id)\n",
    "        user_song_df = pd.DataFrame.from_dict(user_song_features)\n",
    "        X_user = user_song_df.drop(columns=['id', 'type', 'uri', 'track_href','analysis_url', 'time_signature'], axis=1)\n",
    "#List of playlists    \n",
    "        collection = ['https://open.spotify.com/playlist/37i9dQZF1DXcBWIGoYBM5M', \n",
    "          \"https://open.spotify.com/playlist/5ABHKGoOzxkaa28ttQV9sE\", \n",
    "          \"https://open.spotify.com/playlist/37i9dQZEVXbMDoHDwVN2tF\", \n",
    "          \"https://open.spotify.com/playlist/37i9dQZF1DX0XUsuxWHRQd\",\n",
    "          \"https://open.spotify.com/playlist/37i9dQZF1DX10zKzsJ2jva\",\n",
    "          \"https://open.spotify.com/playlist/37i9dQZF1DWY7IeIP1cdjF\",\n",
    "          \"https://open.spotify.com/playlist/37i9dQZF1DWWMOmoXKqHTD\",\n",
    "          \"https://open.spotify.com/playlist/37i9dQZF1DX4o1oenSJRJd\",\n",
    "          \"https://open.spotify.com/playlist/37i9dQZF1DWXRqgorJj26U\",\n",
    "          \"https://open.spotify.com/playlist/37i9dQZF1DX4UtSsGT1Sbe\",\n",
    "          \"https://open.spotify.com/playlist/37i9dQZF1DX76Wlfdnj7AP\",\n",
    "          \"https://open.spotify.com/playlist/37i9dQZF1DXbTxeAdrVG2l\",\n",
    "          \"https://open.spotify.com/playlist/37i9dQZF1DX4WYpdgoIcn6\",\n",
    "          \"https://open.spotify.com/playlist/37i9dQZF1DX4sWSpwq3LiO\",\n",
    "          \"https://open.spotify.com/playlist/37i9dQZF1DX1lVhptIYRda\",\n",
    "          \"https://open.spotify.com/playlist/37i9dQZF1DWY4xHQp97fN6\",\n",
    "          \"https://open.spotify.com/playlist/37i9dQZF1DX3rxVfibe1L0\", \n",
    "          \"https://open.spotify.com/playlist/37i9dQZF1DWSqmBTGDYngZ\", \n",
    "          \"https://open.spotify.com/playlist/37i9dQZF1DX4dyzvuaRJ0n\",\n",
    "          \"https://open.spotify.com/playlist/37i9dQZF1DXdSjVZQzv2tl\",\n",
    "          \"https://open.spotify.com/playlist/37i9dQZF1DXdPec7aLTmlC\",\n",
    "          #\"https://open.spotify.com/playlist/3vxotOnOGDlZXyzJPLFnm2\"]\n",
    "          \"https://open.spotify.com/playlist/37i9dQZF1DWWEJlAGA9gs0\",\n",
    "          \"https://open.spotify.com/playlist/37i9dQZF1DXbITWG1ZJKYt\",\n",
    "          \"https://open.spotify.com/playlist/5eYZGmjBvg3kpIUVpRCUhE\",\n",
    "          \"https://open.spotify.com/playlist/37i9dQZF1DXaKIA8E7WcJj\",\n",
    "          \"https://open.spotify.com/playlist/37i9dQZF1DWTJ7xPn4vNaz\",\n",
    "          \"https://open.spotify.com/playlist/37i9dQZF1DX5Ejj0EkURtP\",\n",
    "          \"https://open.spotify.com/playlist/37i9dQZF1DWSV3Tk4GO2fq\",\n",
    "          \"https://open.spotify.com/playlist/37i9dQZF1DWWOaP4H0w5b0\",\n",
    "          \"https://open.spotify.com/playlist/2PjVPkj4a9kBvQIXaZ6UUt\",\n",
    "          \"https://open.spotify.com/playlist/6mtYuOxzl58vSGnEDtZ9uB\",\n",
    "          \"https://open.spotify.com/playlist/37i9dQZF1DX8FwnYE6PRvL\"]\n",
    "          #\"https://open.spotify.com/playlist/3IZZM4l5jdMwrLeKegeQRH\"]\n",
    "\n",
    "        \n",
    "        playlist_df = get_playlist_tracks_lupo(collection)\n",
    "\n",
    "#prepare data set for transformation by droping categoricals      \n",
    "        X = playlist_df.drop(columns=['song_ids', 'song_name', 'artist', 'id', 'type', 'uri', 'track_href','analysis_url', 'time_signature'], axis=1)\n",
    "\n",
    "#Transform dataset and user song        \n",
    "        scaler = StandardScaler()\n",
    "        scaler.fit(X)\n",
    "        X_prep = scaler.transform(X)\n",
    "        X_prep_user = scaler.transform(X_user)\n",
    "        \n",
    "# K values: Pick highest value of silhouete score to obtain number of clusters     \n",
    "        K = range(2, 20)\n",
    "\n",
    "        silhouette = []\n",
    "\n",
    "        for k in K:\n",
    "            kmeans = KMeans(n_clusters=k, random_state=42)\n",
    "            kmeans.fit(X_prep)\n",
    "            silhouette.append(silhouette_score(X_prep, kmeans.predict(X_prep)))\n",
    "        k_value = silhouette.index(max(silhouette)) + 2\n",
    "\n",
    "#Generate data base clusters with kmeans given the number of clusters\n",
    "        kmeans = KMeans(n_clusters=k_value, random_state=1234)\n",
    "        kmeans.fit(X_prep)\n",
    "#Predict user_song cluster\n",
    "        clusters = kmeans.predict(X_prep)\n",
    "        clusters_user = kmeans.predict(X_prep_user)\n",
    "#Transform scaled database to dataframe again and filter database using the user_song cluster\n",
    "        X_df = pd.DataFrame(X_prep)\n",
    "        X_df[\"cluster\"] = clusters\n",
    "        X_df['song_name'] = playlist_df['song_name']\n",
    "        X_df['artist'] = playlist_df['artist']\n",
    "        X_df_filtered = X_df[X_df[\"cluster\"] == clusters_user[0]]     \n",
    "        cluster_filtered = X_df[X_df['cluster'] == clusters_user[0]].drop(columns=['cluster', 'song_name', 'artist'], axis=1).to_numpy()\n",
    "#obtain most similar song to recommend from the filtered data base\n",
    "        closest, _ = pairwise_distances_argmin_min(X_prep_user, cluster_filtered)\n",
    "# closest_features = pd.DataFrame(cluster_filtered[closest[0]])\n",
    "#extract song name and artist of the recommended song\n",
    "        recommended_song = X_df_filtered.reset_index(drop = True).loc[closest[0]]['song_name']\n",
    "        recommended_artist = X_df_filtered.reset_index(drop = True).loc[closest[0]]['artist']\n",
    "#Conditional to drop the recommended song if the song is the same as the user input. \n",
    "        if artist_names[:-2] == recommended_artist:\n",
    "            cluster_filtered = cluster_filtered.tolist()\n",
    "            cluster_filtered.pop(closest[0])\n",
    "            closest, _ = pairwise_distances_argmin_min(X_prep_user, cluster_filtered)\n",
    "            recommended_song = X_df_filtered.reset_index(drop = True).loc[closest[0]]['song_name']\n",
    "            recommended_artist = X_df_filtered.reset_index(drop = True).loc[closest[0]]['artist']\n",
    "#Return the user song to verify which was picked by the Spotify search engine and return the model recommendation\n",
    "            return f'User input: Artist: {artist_names[:-2]} Track name: {user_song_name}. Model recommendation: {recommended_song} by {recommended_artist}'\n",
    "        else:\n",
    "            return f'User input: Artist: {artist_names[:-2]} Track name: {user_song_name}. Model recommendation: {recommended_song} by {recommended_artist}'\n",
    "        \n",
    "        \n",
    "\n",
    "\n",
    "song_recommender_closest()"
   ]
  },
  {
   "cell_type": "code",
   "execution_count": null,
   "metadata": {},
   "outputs": [],
   "source": [
    "from sklearn.cluster import KMeans\n",
    "from sklearn.metrics import silhouette_score\n",
    "import numpy as np\n",
    "import matplotlib.pyplot as plt\n",
    "\n",
    "\n",
    "K = range(2, 20)\n",
    "\n",
    "silhouette = []\n",
    "\n",
    "def get_playlist_tracks(playlist_url):\n",
    "    \n",
    "    results = sp.playlist_tracks(playlist_url)\n",
    "    tracks = results['items']\n",
    "    \n",
    "    while results['next']:\n",
    "        results = sp.next(results)\n",
    "        tracks.extend(results['items'])\n",
    "    \n",
    "    return tracks\n",
    "\n",
    "tracks = get_playlist_tracks(\"https://open.spotify.com/playlist/5ABHKGoOzxkaa28ttQV9sE\")\n",
    "playlist_audio = sp.audio_features(track_ids[:])\n",
    "data = pd.DataFrame.from_dict(playlist_audio)\n",
    "X = data.drop(columns=['id', 'type', 'uri', 'track_href','analysis_url', 'time_signature'], axis=1)\n",
    "scaler = StandardScaler()\n",
    "scaler.fit(X)\n",
    "X_prep = scaler.transform(X)\n",
    "\n",
    "for k in K:\n",
    "    kmeans = KMeans(n_clusters=k, random_state=42)\n",
    "    kmeans.fit(X_prep)\n",
    "    silhouette.append(silhouette_score(X_prep, kmeans.predict(X_prep)))\n",
    "\n",
    "\n",
    "\n",
    "plt.figure(figsize=(16,8))\n",
    "plt.plot(K, silhouette, 'bx-')\n",
    "plt.xlabel('k')\n",
    "plt.ylabel('silhouette score')\n",
    "plt.xticks(np.arange(min(K), max(K)+1, 1.0))\n",
    "plt.show()"
   ]
  },
  {
   "cell_type": "code",
   "execution_count": null,
   "metadata": {},
   "outputs": [],
   "source": [
    "silhouette"
   ]
  },
  {
   "cell_type": "code",
   "execution_count": null,
   "metadata": {},
   "outputs": [],
   "source": [
    "k = silhouette.index(max(silhouette)) + 2\n",
    "k"
   ]
  }
 ],
 "metadata": {
  "kernelspec": {
   "display_name": "Python 3",
   "language": "python",
   "name": "python3"
  },
  "language_info": {
   "codemirror_mode": {
    "name": "ipython",
    "version": 3
   },
   "file_extension": ".py",
   "mimetype": "text/x-python",
   "name": "python",
   "nbconvert_exporter": "python",
   "pygments_lexer": "ipython3",
   "version": "3.8.3"
  }
 },
 "nbformat": 4,
 "nbformat_minor": 4
}
